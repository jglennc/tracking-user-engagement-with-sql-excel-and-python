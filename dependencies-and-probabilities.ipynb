{
 "cells": [
  {
   "cell_type": "markdown",
   "id": "40a67155",
   "metadata": {},
   "source": [
    "## Importing necessary libraries"
   ]
  },
  {
   "cell_type": "code",
   "execution_count": 3,
   "id": "6450424f",
   "metadata": {},
   "outputs": [],
   "source": [
    "import pandas as pd"
   ]
  },
  {
   "cell_type": "markdown",
   "id": "1b8db5e3",
   "metadata": {},
   "source": [
    "## Loading the data"
   ]
  },
  {
   "cell_type": "code",
   "execution_count": 4,
   "id": "1a35aa3f",
   "metadata": {},
   "outputs": [],
   "source": [
    "q2_2021 = pd.read_csv('watched_q2_2021.csv')\n",
    "q2_2022 = pd.read_csv('watched_q2_2022.csv')\n",
    "q2_2021_2022 = pd.read_csv('watched_q2_2021_2022.csv')\n",
    "data_all = pd.read_csv('watched_all.csv')"
   ]
  },
  {
   "cell_type": "markdown",
   "id": "65f3f370",
   "metadata": {},
   "source": [
    "# Calculate probabilities"
   ]
  },
  {
   "cell_type": "code",
   "execution_count": 36,
   "id": "efc0779c",
   "metadata": {},
   "outputs": [
    {
     "data": {
      "text/plain": [
       "0.482260101010101"
      ]
     },
     "execution_count": 36,
     "metadata": {},
     "output_type": "execute_result"
    }
   ],
   "source": [
    "# P(2021): The probability that a student watched a lecture in Q2 2021\n",
    "prob_2021 = q2_2021.shape[0] / data_all.shape[0]\n",
    "prob_2021"
   ]
  },
  {
   "cell_type": "code",
   "execution_count": 28,
   "id": "748a59d9",
   "metadata": {
    "scrolled": true
   },
   "outputs": [
    {
     "data": {
      "text/plain": [
       "0.5581439393939394"
      ]
     },
     "execution_count": 28,
     "metadata": {},
     "output_type": "execute_result"
    }
   ],
   "source": [
    "# P(2021): The probability that a student watched a lecture in Q2 2022\n",
    "prob_2022 = q2_2022.shape[0] / data_all.shape[0]\n",
    "prob_2022"
   ]
  },
  {
   "cell_type": "code",
   "execution_count": 29,
   "id": "00a88201",
   "metadata": {},
   "outputs": [
    {
     "data": {
      "text/plain": [
       "0.04040404040404041"
      ]
     },
     "execution_count": 29,
     "metadata": {},
     "output_type": "execute_result"
    }
   ],
   "source": [
    "# P(2021∩2022): The probability that a student watched a lecture in Q2 2021 and Q2 2022\n",
    "prob_2021n2022 = q2_2021_2022.shape[0] / data_all.shape[0]\n",
    "prob_2021n2022"
   ]
  },
  {
   "cell_type": "markdown",
   "id": "0cbb8a48",
   "metadata": {},
   "source": [
    "# Test for independence"
   ]
  },
  {
   "cell_type": "code",
   "execution_count": 27,
   "id": "a5478256",
   "metadata": {},
   "outputs": [
    {
     "data": {
      "text/plain": [
       "0.2691705525902969"
      ]
     },
     "execution_count": 27,
     "metadata": {},
     "output_type": "execute_result"
    }
   ],
   "source": [
    "# Independence assumption\n",
    "assumed_prob_2021n2022 = prob_2021 * prob_2022\n",
    "assumed_prob_2021n2022"
   ]
  },
  {
   "cell_type": "code",
   "execution_count": 24,
   "id": "018dcec4",
   "metadata": {},
   "outputs": [
    {
     "data": {
      "text/plain": [
       "0.04040404040404041"
      ]
     },
     "execution_count": 24,
     "metadata": {},
     "output_type": "execute_result"
    }
   ],
   "source": [
    "prob_2021n2022"
   ]
  },
  {
   "cell_type": "markdown",
   "id": "f44e83bd",
   "metadata": {},
   "source": [
    "# Compare your results"
   ]
  },
  {
   "cell_type": "markdown",
   "id": "90ebbac7",
   "metadata": {},
   "source": [
    "Interpretation:\n",
    "1. Because the independence test is not fulfilled, then watching a lecture in Q2 2021 and Q2 2022 are dependent events.\n",
    "1. This means that the occurrence of one event has some influence on the occurrence of the other\n",
    "1. Since P(A) × P(B) is larger than P(A∩B), it suggests that those who watched a lecture in Q2 2021 were less likely to watch a lecture in Q2 2022 than anticipated if the two events were independent. This is to be expected. A student who has benefitted from the program in 2021 and has completed their goal is not as likely to return in 2022 and study as much.\n",
    "\n",
    "Conclusion:\n",
    "From this information, we should run marketing campaigns that 'resurrect' students who've been registered on the platform for a while but have not been active in a long time.\n",
    "\n",
    "The reason for that is to introduce such students to the new features of the platform as well as the new content in the course library. We always aim to upload new and relevant content and believe that students finished learning on the platform can still benefit the program even after some time."
   ]
  },
  {
   "cell_type": "markdown",
   "id": "7d643185",
   "metadata": {},
   "source": [
    "# II. Calculating Probabilities"
   ]
  },
  {
   "cell_type": "code",
   "execution_count": 26,
   "id": "4c2cd69c",
   "metadata": {},
   "outputs": [
    {
     "data": {
      "text/plain": [
       "0.07239000113109378"
      ]
     },
     "execution_count": 26,
     "metadata": {},
     "output_type": "execute_result"
    }
   ],
   "source": [
    "# P(2021|2022):the probability that a student has watched a lecture in Q2 2021, given that they’ve watched a lecture in Q2 2022\n",
    "p_2021_given_2022 = prob_2021n2022 / prob_2022\n",
    "p_2021_given_2022"
   ]
  },
  {
   "cell_type": "markdown",
   "id": "14024dd0",
   "metadata": {},
   "source": [
    "This results confirms that students who watched a lecture in Q2 2022 were unlikely to have also watched one in the same quarter of the previous year."
   ]
  }
 ],
 "metadata": {
  "kernelspec": {
   "display_name": "Python 3 (ipykernel)",
   "language": "python",
   "name": "python3"
  },
  "language_info": {
   "codemirror_mode": {
    "name": "ipython",
    "version": 3
   },
   "file_extension": ".py",
   "mimetype": "text/x-python",
   "name": "python",
   "nbconvert_exporter": "python",
   "pygments_lexer": "ipython3",
   "version": "3.10.9"
  }
 },
 "nbformat": 4,
 "nbformat_minor": 5
}
